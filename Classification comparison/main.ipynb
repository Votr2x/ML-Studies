{
 "cells": [
  {
   "cell_type": "code",
   "execution_count": 56,
   "id": "c9ee8a8a-8548-4720-a364-6d9bafa14ed2",
   "metadata": {},
   "outputs": [],
   "source": [
    "import pandas as pd\n",
    "import lightgbm as lgb\n",
    "import warnings\n",
    "warnings.filterwarnings('ignore')\n",
    "from sklearn.model_selection import train_test_split\n",
    "from sklearn.metrics import accuracy_score\n",
    "from sklearn.ensemble import RandomForestClassifier\n",
    "from lightgbm import LGBMClassifier\n",
    "from sklearn.ensemble import GradientBoostingClassifier\n",
    "from sklearn.tree import DecisionTreeClassifier\n",
    "from sklearn.ensemble import AdaBoostClassifier\n",
    "from catboost import CatBoostClassifier"
   ]
  },
  {
   "cell_type": "code",
   "execution_count": 57,
   "id": "6c5608bc-30a8-4039-a7c2-83883172cf77",
   "metadata": {},
   "outputs": [],
   "source": [
    "df = pd.read_csv('UCI_Credit_Card.csv')"
   ]
  },
  {
   "cell_type": "code",
   "execution_count": 58,
   "id": "126b68ae-dd4d-4a62-8963-35f0bb4724b8",
   "metadata": {},
   "outputs": [],
   "source": [
    "X = df.drop('default.payment.next.month', axis=1)\n",
    "y = df['default.payment.next.month']"
   ]
  },
  {
   "cell_type": "code",
   "execution_count": 59,
   "id": "8cb23d78-6240-41a0-89fa-07a28f756aaf",
   "metadata": {},
   "outputs": [],
   "source": [
    "X_train, X_test, y_train, y_test = train_test_split(X, y, test_size=0.2, random_state=101)"
   ]
  },
  {
   "cell_type": "code",
   "execution_count": 60,
   "id": "0b99eb18-fc63-4968-84e5-8c81351ab7b8",
   "metadata": {},
   "outputs": [],
   "source": [
    "# RF"
   ]
  },
  {
   "cell_type": "code",
   "execution_count": 61,
   "id": "4db85d16-4493-4e4c-a381-185280a702c2",
   "metadata": {},
   "outputs": [],
   "source": [
    "classifier = RandomForestClassifier(n_estimators=100, random_state=101)\n",
    "classifier.fit(X_train, y_train)\n",
    "y_pred = classifier.predict(X_test)"
   ]
  },
  {
   "cell_type": "code",
   "execution_count": 62,
   "id": "f2e0e73a-2298-4d0b-a3af-9d69f605c288",
   "metadata": {},
   "outputs": [
    {
     "name": "stdout",
     "output_type": "stream",
     "text": [
      "Accuracy: 82.08333333333333%\n"
     ]
    }
   ],
   "source": [
    "accuracy_random_forest = accuracy_score(y_test, y_pred)\n",
    "print(f'Accuracy: {accuracy_random_forest * 100}%')"
   ]
  },
  {
   "cell_type": "code",
   "execution_count": 63,
   "id": "beddefa8-dc2e-48bd-8c86-32fd9bded631",
   "metadata": {},
   "outputs": [],
   "source": [
    "# LGBM"
   ]
  },
  {
   "cell_type": "code",
   "execution_count": 64,
   "id": "a7bf4888-2cda-47a4-9900-994fbde5f00d",
   "metadata": {},
   "outputs": [
    {
     "name": "stdout",
     "output_type": "stream",
     "text": [
      "[LightGBM] [Info] Number of positive: 5326, number of negative: 18674\n",
      "[LightGBM] [Info] Auto-choosing col-wise multi-threading, the overhead of testing was 0.000967 seconds.\n",
      "You can set `force_col_wise=true` to remove the overhead.\n",
      "[LightGBM] [Info] Total Bins 3521\n",
      "[LightGBM] [Info] Number of data points in the train set: 24000, number of used features: 24\n",
      "[LightGBM] [Info] [binary:BoostFromScore]: pavg=0.221917 -> initscore=-1.254532\n",
      "[LightGBM] [Info] Start training from score -1.254532\n"
     ]
    }
   ],
   "source": [
    "model = LGBMClassifier(\n",
    "    objective='binary',\n",
    "    n_estimators=500,\n",
    "    learning_rate=0.05,\n",
    "    num_leaves=31,\n",
    "    max_depth=-1,\n",
    "    random_state=101\n",
    ")\n",
    "model.fit(X_train, y_train)\n",
    "y_pred = model.predict(X_test)"
   ]
  },
  {
   "cell_type": "code",
   "execution_count": 65,
   "id": "239b50dc-d633-43b3-ba9c-9625751502c9",
   "metadata": {},
   "outputs": [
    {
     "name": "stdout",
     "output_type": "stream",
     "text": [
      "Accuracy: 82.3%\n"
     ]
    }
   ],
   "source": [
    "accuracy_lgbm = accuracy_score(y_test, y_pred)\n",
    "print(f'Accuracy: {accuracy_lgbm * 100}%')"
   ]
  },
  {
   "cell_type": "code",
   "execution_count": 66,
   "id": "7e188406-65ca-429f-8264-c14971826d0d",
   "metadata": {},
   "outputs": [],
   "source": [
    "# GBM"
   ]
  },
  {
   "cell_type": "code",
   "execution_count": 67,
   "id": "c316b8f6-dbf9-41fd-ab71-1aced5861ebb",
   "metadata": {},
   "outputs": [],
   "source": [
    "gbm = GradientBoostingClassifier(\n",
    "    n_estimators=300,      \n",
    "    learning_rate=0.05,     \n",
    "    max_depth=3,           \n",
    "    subsample=0.8,         \n",
    "    random_state=101\n",
    ")\n",
    "gbm.fit(X_train, y_train)\n",
    "y_pred = gbm.predict(X_test)"
   ]
  },
  {
   "cell_type": "code",
   "execution_count": 68,
   "id": "fee41acf-345a-458f-b518-0654a3aab473",
   "metadata": {},
   "outputs": [
    {
     "name": "stdout",
     "output_type": "stream",
     "text": [
      "Accuracy: 82.33333333333334%\n"
     ]
    }
   ],
   "source": [
    "accuracy_gbm = accuracy_score(y_test, y_pred)\n",
    "print(f'Accuracy: {accuracy_gbm * 100}%')"
   ]
  },
  {
   "cell_type": "code",
   "execution_count": 69,
   "id": "d5e8ae79-1851-405f-9d68-e4fd4d8cb57a",
   "metadata": {},
   "outputs": [],
   "source": [
    "# ADA"
   ]
  },
  {
   "cell_type": "code",
   "execution_count": 70,
   "id": "55908cb4-25c9-4d54-900d-76a180818a33",
   "metadata": {},
   "outputs": [],
   "source": [
    "base_tree = DecisionTreeClassifier(\n",
    "    max_depth=1,      \n",
    "    random_state=101\n",
    ")\n",
    "ada = AdaBoostClassifier(\n",
    "    estimator=base_tree,\n",
    "    n_estimators=200,     \n",
    "    learning_rate=0.05,     \n",
    "    random_state=101\n",
    ")\n",
    "ada.fit(X_train, y_train)\n",
    "y_pred = ada.predict(X_test)"
   ]
  },
  {
   "cell_type": "code",
   "execution_count": 71,
   "id": "c60428d2-b0dc-48a9-b97d-4defcd6d5d8c",
   "metadata": {},
   "outputs": [
    {
     "name": "stdout",
     "output_type": "stream",
     "text": [
      "Accuracy: 82.11666666666667%\n"
     ]
    }
   ],
   "source": [
    "accuracy_ada = accuracy_score(y_test, y_pred)\n",
    "print(f'Accuracy: {accuracy_ada * 100}%')"
   ]
  },
  {
   "cell_type": "code",
   "execution_count": 72,
   "id": "0bec8878-df57-4c5b-87ff-755aa3e1934f",
   "metadata": {},
   "outputs": [],
   "source": [
    "# CAT"
   ]
  },
  {
   "cell_type": "code",
   "execution_count": 73,
   "id": "69c37c8b-6441-46d7-8fee-21b33f6f1210",
   "metadata": {},
   "outputs": [],
   "source": [
    "cat = CatBoostClassifier(\n",
    "    iterations=500,          \n",
    "    learning_rate=0.05,      \n",
    "    depth=6,                 \n",
    "    loss_function='Logloss', \n",
    "    eval_metric='Accuracy',\n",
    "    random_seed=101,\n",
    "    verbose=False           \n",
    ")\n",
    "cat.fit(X_train, y_train)\n",
    "y_pred = cat.predict(X_test)"
   ]
  },
  {
   "cell_type": "code",
   "execution_count": 74,
   "id": "33734b0b-3e0f-4c38-92aa-30cc01bf33ac",
   "metadata": {},
   "outputs": [
    {
     "name": "stdout",
     "output_type": "stream",
     "text": [
      "Accuracy: 82.15%\n"
     ]
    }
   ],
   "source": [
    "accuracy_cat = accuracy_score(y_test, y_pred)\n",
    "print(f'Accuracy: {accuracy_cat * 100}%')"
   ]
  },
  {
   "cell_type": "code",
   "execution_count": 83,
   "id": "5d0d8081-f1af-49b0-9994-65a0db5d7779",
   "metadata": {},
   "outputs": [
    {
     "name": "stdout",
     "output_type": "stream",
     "text": [
      "GBM     82.333333\n",
      "LGBM    82.300000\n",
      "CAT     82.150000\n",
      "ADA     82.116667\n",
      "RF      82.083333\n",
      "dtype: float64\n"
     ]
    }
   ],
   "source": [
    "series = pd.Series([accuracy_random_forest, accuracy_lgbm, accuracy_gbm, accuracy_ada, accuracy_cat], index = ['RF', 'LGBM', 'GBM', 'ADA', 'CAT'])\n",
    "series = (series * 100)\n",
    "series_sorted = series.sort_values(ascending=False)\n",
    "print(series_sorted)"
   ]
  }
 ],
 "metadata": {
  "kernelspec": {
   "display_name": "Python [conda env:base] *",
   "language": "python",
   "name": "conda-base-py"
  },
  "language_info": {
   "codemirror_mode": {
    "name": "ipython",
    "version": 3
   },
   "file_extension": ".py",
   "mimetype": "text/x-python",
   "name": "python",
   "nbconvert_exporter": "python",
   "pygments_lexer": "ipython3",
   "version": "3.13.5"
  }
 },
 "nbformat": 4,
 "nbformat_minor": 5
}
